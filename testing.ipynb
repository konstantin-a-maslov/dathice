{
 "cells": [
  {
   "cell_type": "code",
   "execution_count": 1,
   "id": "000d0409-4fb7-443c-8df4-d1e34422092b",
   "metadata": {},
   "outputs": [],
   "source": [
    "import jax\n",
    "import jax.numpy as jnp\n",
    "import pandas\n",
    "import numpy as np\n",
    "import matplotlib.pyplot as plt\n",
    "import pickle"
   ]
  },
  {
   "cell_type": "code",
   "execution_count": 2,
   "id": "bfacff24-40c7-478e-998d-96039ce3c42a",
   "metadata": {},
   "outputs": [],
   "source": [
    "# read the test data\n",
    "df = pandas.read_csv(\"data/dataset.csv\")\n",
    "df = df[df.fold == -1]\n",
    "\n",
    "features = sorted([\n",
    "    \"H_modelled\",\n",
    "    \"H_modelled_grad\", \n",
    "    \"H_modelled_lapl\", \n",
    "    \"v_modelled\",\n",
    "    \"v_modelled_grad\",\n",
    "    \"v_modelled_lapl\",\n",
    "    \"boundary_proximity\",\n",
    "    \"elevation1\",\n",
    "    \"elevation1_gradient\", \n",
    "    \"elevation1_laplacian\",\n",
    "    \"elevation2_gradient\",\n",
    "    \"elevation2_laplacian\",\n",
    "    \"elevation_diff\",\n",
    "])\n",
    "\n",
    "feature_idxs = {feature: idx for idx, feature in enumerate(features)}\n",
    "target = \"H\""
   ]
  },
  {
   "cell_type": "code",
   "execution_count": 3,
   "id": "f3656de8-4af4-4485-bc31-0b8285858adc",
   "metadata": {},
   "outputs": [],
   "source": [
    "# normalise test data\n",
    "with open(\"data/stats.pickle\", \"rb\") as src:\n",
    "    feature_mins, feature_maxs = pickle.load(src)\n",
    "\n",
    "df_norm = df.copy()\n",
    "\n",
    "for feature in features + [\"H\"]:\n",
    "    vmin = feature_mins[feature]\n",
    "    vmax = feature_maxs[feature]\n",
    "    feature_norm = (df_norm[feature] - vmin) / (vmax - vmin)\n",
    "    df_norm[feature] = feature_norm"
   ]
  },
  {
   "cell_type": "code",
   "execution_count": null,
   "id": "f060a220-a987-4cdb-813e-231c0c4cb463",
   "metadata": {},
   "outputs": [],
   "source": []
  },
  {
   "cell_type": "code",
   "execution_count": 4,
   "id": "61175fe2-8b36-456b-b3b5-579f6e721e91",
   "metadata": {},
   "outputs": [],
   "source": [
    "# load the model params and hyperparameters\n",
    "# adjust the paths as needed\n",
    "with open(\"params/params.pickle\", \"rb\") as src:\n",
    "    params = pickle.load(src)\n",
    "with open(\"hyperparameters/hyperparameters.pickle\", \"rb\") as src:\n",
    "    hyperparameters = pickle.load(src)\n",
    "\n",
    "activation_fuction = {\n",
    "    \"swish\": jax.nn.swish,\n",
    "    \"relu\": jax.nn.relu,\n",
    "    \"softplus\": jax.nn.softplus,\n",
    "    \"elu\": jax.nn.elu,\n",
    "}[hyperparameters[\"activation_function\"]]"
   ]
  },
  {
   "cell_type": "code",
   "execution_count": 5,
   "id": "18815e04-f2d2-42e8-892a-24843a5d0a1e",
   "metadata": {},
   "outputs": [],
   "source": [
    "# define model again (in practice, the model definition would be moved to a separate file to avoid code duplication, as well as other parts)\n",
    "def build_mlp(activation, final_activation=None, squeeze=False):\n",
    "    if final_activation is None:\n",
    "        def linear(x):\n",
    "            return x\n",
    "        final_activation = jax.jit(linear)\n",
    "        \n",
    "    def mlp(params, x):\n",
    "        for w, b in params[:-1]:\n",
    "            x = jnp.dot(w, x) + b\n",
    "            x = activation(x)\n",
    "        w, b = params[-1]\n",
    "        y = jnp.dot(w, x) + b\n",
    "        y = final_activation(y)\n",
    "        if squeeze:\n",
    "            y = jnp.squeeze(y)\n",
    "        return y\n",
    "\n",
    "    return jax.jit(mlp)\n",
    "\n",
    "\n",
    "def build_dathice(mlp_bcs, mlp):\n",
    "    def dathice(params, x):\n",
    "        mlp_bcs_params, mlp_params = params\n",
    "        p = jnp.array([x[_] for _ in sorted(x.keys())])\n",
    "        mlp_bcs_output = mlp_bcs(mlp_bcs_params, p)\n",
    "        mlp_output = mlp(mlp_params, p)\n",
    "        d = x[\"boundary_proximity\"]\n",
    "        H_modelled = x[\"H_modelled\"]\n",
    "        bcs_factor = d * mlp_bcs_output\n",
    "        H_corrected = H_modelled + mlp_output\n",
    "        H_constrained = jax.nn.relu(H_corrected)\n",
    "        y = bcs_factor * H_constrained\n",
    "        return y\n",
    "        \n",
    "    return jax.jit(dathice)\n",
    "\n",
    "\n",
    "mlp_bcs = build_mlp(\n",
    "    activation_fuction, \n",
    "    final_activation=jax.nn.softplus, \n",
    "    squeeze=True\n",
    ")\n",
    "mlp = build_mlp(\n",
    "    activation_fuction, \n",
    "    squeeze=True\n",
    ")\n",
    "dathice = build_dathice(mlp_bcs, mlp)\n",
    "\n",
    "mlp_bcs_batched = jax.vmap(mlp_bcs, in_axes=(None, 0))\n",
    "mlp_batched = jax.vmap(mlp, in_axes=(None, 0))\n",
    "dathice_batched = jax.vmap(dathice, in_axes=(None, 0))"
   ]
  },
  {
   "cell_type": "code",
   "execution_count": null,
   "id": "c4dd2bed-ead7-455e-b74b-ae3f7e6e379a",
   "metadata": {},
   "outputs": [],
   "source": []
  },
  {
   "cell_type": "code",
   "execution_count": 6,
   "id": "44293f9b-b486-4b83-902e-e7c1fe3021e4",
   "metadata": {},
   "outputs": [],
   "source": [
    "# run the model on the test data\n",
    "def convert_to_jax_xy_pair(df, target=target):\n",
    "    x = {_: jnp.array(df[_]) for _ in features}\n",
    "    y = jnp.array(df[target])    \n",
    "    return x, y\n",
    "\n",
    "\n",
    "x, _ = convert_to_jax_xy_pair(df_norm)\n",
    "pred = dathice_batched(params, x)\n",
    "\n",
    "\n",
    "# a helper function to 'denormalise' values back\n",
    "def denorm(vals, column, vmin=None, vmax=None):\n",
    "    if vmin is None:\n",
    "        vmin = feature_mins[column]\n",
    "    if vmax is None:\n",
    "        vmax = feature_maxs[column]\n",
    "    denormed = vals * (vmax - vmin) + vmin\n",
    "    return denormed\n",
    "\n",
    "\n",
    "pred = denorm(pred, \"H\")"
   ]
  },
  {
   "cell_type": "code",
   "execution_count": null,
   "id": "edee3b94-9bbf-4ea8-9d60-8a6a67ae8c43",
   "metadata": {},
   "outputs": [],
   "source": []
  },
  {
   "cell_type": "code",
   "execution_count": 7,
   "id": "f930b5b1-b297-4bbe-b69a-f9e3948a6a63",
   "metadata": {},
   "outputs": [],
   "source": [
    "# evaluate the results\n",
    "def rmse(true, pred):\n",
    "    return np.sqrt(np.nanmean((true - pred) ** 2))\n",
    "\n",
    "\n",
    "def r_squared(true, pred):\n",
    "    mean_observed = np.mean(true)\n",
    "    sst = np.sum((true - mean_observed) ** 2)\n",
    "    ssr = np.sum((true - pred) ** 2)\n",
    "    return 1 - ssr / sst"
   ]
  },
  {
   "cell_type": "code",
   "execution_count": 8,
   "id": "d9be90aa-3069-40d3-852a-579594d0dda7",
   "metadata": {},
   "outputs": [],
   "source": [
    "def plot_scatter(x, y, ax, xlabel, ylabel, vmin=0, vmax=200):\n",
    "    n = len(x)\n",
    "    linear_fit_slope = (n * np.sum(x * y) - np.sum(x) * np.sum(y)) / (n * np.sum(x**2) - np.sum(x)**2)\n",
    "    linear_fit_bias = (np.sum(y) * np.sum(x**2) - np.sum(x) * np.sum(x * y)) / (n * np.sum(x**2) - np.sum(x)**2)\n",
    "    linear_fit_xs = np.arange(vmin, vmax, 1)\n",
    "    linear_fit_ys = linear_fit_slope * linear_fit_xs + linear_fit_bias\n",
    "    \n",
    "    ax.plot([vmin, vmax], [vmin, vmax], color=\"lightgreen\", linewidth=2, label=\"Ideal\", zorder=-2)\n",
    "    ax.plot(linear_fit_xs, linear_fit_ys, color=\"black\", linewidth=0.5, alpha=0.5, label=\"Linear fit\", zorder=-1)\n",
    "    \n",
    "    ax.scatter(x, y, s=2, alpha=0.5)\n",
    "\n",
    "    _rmse = rmse(y, x)\n",
    "    _r_squared = r_squared(y, x)\n",
    "    ax.text(1.0, 0, f\"R$^2$ = {_r_squared:.2f}\", ha=\"right\", va=\"bottom\", transform=ax.transAxes)\n",
    "    ax.text(1.0, 0.065, f\"RMSE = {_rmse:.2f}\", ha=\"right\", va=\"bottom\", transform=ax.transAxes)\n",
    "    \n",
    "    ax.set_ylabel(ylabel)\n",
    "    ax.set_xlabel(xlabel)\n",
    "    \n",
    "    ax.set_xlim(vmin, vmax)\n",
    "    ax.set_ylim(vmin, vmax)\n",
    "    \n",
    "    ax.spines[\"top\"].set_visible(False)\n",
    "    ax.spines[\"right\"].set_visible(False)\n",
    "    ax.spines[\"left\"].set_position((\"outward\", 6))\n",
    "    ax.spines[\"bottom\"].set_position((\"outward\", 6))\n",
    "    \n",
    "    ax.legend(frameon=False, loc=\"upper left\")"
   ]
  },
  {
   "cell_type": "code",
   "execution_count": 9,
   "id": "be609a63-13fd-48e2-bda0-cc56e6a06f84",
   "metadata": {},
   "outputs": [
    {
     "data": {
      "image/png": "[encoded data removed]",
      "text/plain": [
       "<Figure size 648x360 with 2 Axes>"
      ]
     },
     "metadata": {
      "needs_background": "light"
     },
     "output_type": "display_data"
    }
   ],
   "source": [
    "_, axs = plt.subplots(ncols=2, figsize=(9, 5))\n",
    "\n",
    "plot_scatter(df[\"H_modelled\"], df[\"H\"], axs[0], \"Millan et al. 2022, m\", \"GPR, m\")\n",
    "plot_scatter(pred, df[\"H\"], axs[1], \"DATHICE, m\", \"GPR, m\")\n",
    "\n",
    "plt.tight_layout()\n",
    "plt.show()"
   ]
  },
  {
   "cell_type": "code",
   "execution_count": null,
   "id": "4f749670-bdcc-4edd-a7ff-0f871fe89f59",
   "metadata": {},
   "outputs": [],
   "source": []
  }
 ],
 "metadata": {
  "kernelspec": {
   "display_name": "Python 3",
   "language": "python",
   "name": "python3"
  },
  "language_info": {
   "codemirror_mode": {
    "name": "ipython",
    "version": 3
   },
   "file_extension": ".py",
   "mimetype": "text/x-python",
   "name": "python",
   "nbconvert_exporter": "python",
   "pygments_lexer": "ipython3",
   "version": "3.9.19"
  }
 },
 "nbformat": 4,
 "nbformat_minor": 5
}
